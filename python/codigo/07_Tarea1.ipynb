{
 "cells": [
  {
   "cell_type": "markdown",
   "metadata": {},
   "source": [
    "# TAREA 1"
   ]
  },
  {
   "cell_type": "markdown",
   "metadata": {},
   "source": [
    "1. Escribe una secuencia de instrucciones que permitan leer un número real por pantalla y que muestre si el número es positivo o no."
   ]
  },
  {
   "cell_type": "code",
   "execution_count": 1,
   "metadata": {},
   "outputs": [],
   "source": [
    "#SOLUCION:\n",
    "\n",
    "def numReal(a):\n",
    "    if(a > 0):\n",
    "        print(\"El numero es positivo\")\n",
    "    else:\n",
    "        print(\"El numero no es positivo\")\n",
    "    return"
   ]
  },
  {
   "cell_type": "code",
   "execution_count": 3,
   "metadata": {},
   "outputs": [
    {
     "name": "stdout",
     "output_type": "stream",
     "text": [
      "El numero no es positivo\n"
     ]
    }
   ],
   "source": [
    "numReal(-3)"
   ]
  },
  {
   "cell_type": "markdown",
   "metadata": {},
   "source": [
    "2) Escribe una secuencia de instrucciones que permitan leer un número real por pantalla y que muestre si el número está en el rango entre -5 y 5"
   ]
  },
  {
   "cell_type": "code",
   "execution_count": 4,
   "metadata": {},
   "outputs": [],
   "source": [
    "def numero():\n",
    "    n = int(input(\"ingrese un numero real: \"))\n",
    "    if(n>=-5 and n<=5):\n",
    "        print(\"El numero esta dentro del rango\")\n",
    "    else:\n",
    "        print(\"El numero no esta dentro del rango\")\n",
    "    return"
   ]
  },
  {
   "cell_type": "code",
   "execution_count": 10,
   "metadata": {},
   "outputs": [
    {
     "name": "stdout",
     "output_type": "stream",
     "text": [
      "El numero no esta dentro del rango\n"
     ]
    }
   ],
   "source": [
    "numero()"
   ]
  },
  {
   "cell_type": "markdown",
   "metadata": {},
   "source": [
    "3. Escribe una secuencia de instrucciones que permitan leer las coordenadas de un punto (x, y) e indique en cuál de los cuatro cuadrantes se encuentra dicho punto."
   ]
  },
  {
   "cell_type": "code",
   "execution_count": 11,
   "metadata": {},
   "outputs": [],
   "source": [
    "def cuadrante(x,y):\n",
    "    if(x>0 and y>0):\n",
    "        print(\"Los numeros pertenen al primer cuadrante\")\n",
    "    elif(x<0 and y>0):\n",
    "        print(\"Los numeros pertenecen al segundo cuadrante \")\n",
    "    elif(x<0 and y<0):\n",
    "        print(\"Los numero pertencen al tercer cuadrante\")\n",
    "    else:\n",
    "        print(\"Los numeros pertenecen al cuarto cuadrante\")\n",
    "    return"
   ]
  },
  {
   "cell_type": "code",
   "execution_count": 15,
   "metadata": {},
   "outputs": [
    {
     "name": "stdout",
     "output_type": "stream",
     "text": [
      "Los numeros pertenecen al cuarto cuadrante\n"
     ]
    }
   ],
   "source": [
    "cuadrante(5,-3)"
   ]
  },
  {
   "cell_type": "markdown",
   "metadata": {},
   "source": [
    "4. Escribe una secuencia de instrucciones que permitan leer dos números enteros y muestre el cociente de la división entera y el resto."
   ]
  },
  {
   "cell_type": "code",
   "execution_count": 16,
   "metadata": {},
   "outputs": [],
   "source": [
    "def division():\n",
    "    x = int(input(\"Ingrese el primer numero: \"))\n",
    "    y = int(input(\"Ingrese el segundo numero: \"))\n",
    "    div = x//y\n",
    "    rest = x%y\n",
    "    print(\"La division entera de los numeros es: \"+str(div))\n",
    "    print(\"El resto de los numeros es: \"+str(rest)) \n",
    "    return"
   ]
  },
  {
   "cell_type": "code",
   "execution_count": 18,
   "metadata": {},
   "outputs": [
    {
     "name": "stdout",
     "output_type": "stream",
     "text": [
      "La division entera de los numeros es: 2\n",
      "El resto de los numeros es: 0\n"
     ]
    }
   ],
   "source": [
    "division()"
   ]
  },
  {
   "cell_type": "markdown",
   "metadata": {},
   "source": [
    "5. Escribe una secuencia de instrucciones que permitan leer un número entero es cuadrado perfecto o no (piensa la mejor forma de hacerlo con lo que has aprendido hasta ahora)"
   ]
  },
  {
   "cell_type": "code",
   "execution_count": 33,
   "metadata": {},
   "outputs": [],
   "source": [
    "import math\n",
    "def cuadraPerf(x):\n",
    "    raiz = math.sqrt(x)\n",
    "    \n",
    "    if(raiz*raiz == x ):\n",
    "        print(f\"El numero {x} es cuadrado perfecto\")\n",
    "    else:\n",
    "        print(f\"El numero \"+str(x)+\" no es cuadrado perfecto\")\n",
    "    return"
   ]
  },
  {
   "cell_type": "code",
   "execution_count": 34,
   "metadata": {},
   "outputs": [
    {
     "name": "stdout",
     "output_type": "stream",
     "text": [
      "El numero 3 no es cuadrado perfecto\n"
     ]
    }
   ],
   "source": [
    "cuadraPerf(3)"
   ]
  },
  {
   "cell_type": "markdown",
   "metadata": {},
   "source": [
    "6. Escribe una expresión que permita determinar si un número entero positivo puede corresponder a un año bisiesto o no. Se consideran años bisiestos aquellos cuyo número es divisible por cuatro excepto los años que son múltiplos de 100, a no ser que lo sean de 400 (por ejemplo el año 2000 fue bisiesto pero el 2100 no lo será)."
   ]
  },
  {
   "cell_type": "code",
   "execution_count": 59,
   "metadata": {},
   "outputs": [],
   "source": [
    "def Bisiesto(x):\n",
    "    bis = True\n",
    "    if(x%4 == 0):\n",
    "        bis = True\n",
    "        if(x%400 == 0):\n",
    "            bis = True\n",
    "        elif(x%100 == 0):\n",
    "            bis = False\n",
    "    else:\n",
    "        bis = False\n",
    "    if(bis):\n",
    "        print(f\"El año {x} es bisiesto\")      \n",
    "    else:\n",
    "        print(f\"El año {x} no es bisiesto\")"
   ]
  },
  {
   "cell_type": "code",
   "execution_count": 65,
   "metadata": {},
   "outputs": [
    {
     "name": "stdout",
     "output_type": "stream",
     "text": [
      "El año 4000 es bisiesto\n"
     ]
    }
   ],
   "source": [
    "Bisiesto(4000)"
   ]
  },
  {
   "cell_type": "markdown",
   "metadata": {},
   "source": [
    "7. Busca la imagen de un tablero de ajedrez en Google y fíjate en la nomenclatura de las casillas. Escribe una expresión lea una letra y un número de teclado correspondiente a una casilla de un tablero de ajedrez y nos indique si esta casilla es negra o blanca."
   ]
  },
  {
   "cell_type": "code",
   "execution_count": 92,
   "metadata": {},
   "outputs": [],
   "source": [
    "def ajedrez():\n",
    "    y = input(\"Ingrese una letra entre la a y h: \")\n",
    "    x = int(input(\"Ingrese un numero entre 1 y 8: \"))\n",
    "   # y = y.islower()\n",
    "    letras = ['a','b','c','d','e','f','g','h']\n",
    "    \n",
    "    if((x>=1 and x<=8) and (y in letras)):\n",
    "        if((y==\"a\" or y==\"c\" or y=='e' or y=='g') and (x==1 or x== 3 or x==5 or x==7)):\n",
    "            print(\"La casilla es negra\")\n",
    "        else:\n",
    "            print(\"La casilla es blanca\")\n",
    "    else:\n",
    "        print(\"ingrese valores correctos\")\n",
    "\n"
   ]
  },
  {
   "cell_type": "code",
   "execution_count": 95,
   "metadata": {},
   "outputs": [
    {
     "name": "stdout",
     "output_type": "stream",
     "text": [
      "ingrese valores correctos\n"
     ]
    }
   ],
   "source": [
    "ajedrez()"
   ]
  },
  {
   "cell_type": "code",
   "execution_count": null,
   "metadata": {},
   "outputs": [],
   "source": []
  }
 ],
 "metadata": {
  "kernelspec": {
   "display_name": "Python 3",
   "language": "python",
   "name": "python3"
  },
  "language_info": {
   "codemirror_mode": {
    "name": "ipython",
    "version": 3
   },
   "file_extension": ".py",
   "mimetype": "text/x-python",
   "name": "python",
   "nbconvert_exporter": "python",
   "pygments_lexer": "ipython3",
   "version": "3.12.2"
  }
 },
 "nbformat": 4,
 "nbformat_minor": 2
}
